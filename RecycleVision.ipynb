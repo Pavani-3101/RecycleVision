{
 "cells": [
  {
   "cell_type": "code",
   "execution_count": 2,
   "id": "df879722-c1c0-4e19-82cb-c582802163fd",
   "metadata": {},
   "outputs": [
    {
     "name": "stdout",
     "output_type": "stream",
     "text": [
      "^C\n",
      "Collecting seaborn\n",
      "  Downloading seaborn-0.13.2-py3-none-any.whl.metadata (5.4 kB)\n",
      "Requirement already satisfied: numpy!=1.24.0,>=1.20 in c:\\users\\pavan\\appdata\\local\\programs\\python\\python312\\lib\\site-packages (from seaborn) (1.26.4)\n",
      "Requirement already satisfied: pandas>=1.2 in c:\\users\\pavan\\appdata\\local\\programs\\python\\python312\\lib\\site-packages (from seaborn) (2.2.2)\n",
      "Requirement already satisfied: matplotlib!=3.6.1,>=3.4 in c:\\users\\pavan\\appdata\\local\\programs\\python\\python312\\lib\\site-packages (from seaborn) (3.8.4)\n",
      "Requirement already satisfied: contourpy>=1.0.1 in c:\\users\\pavan\\appdata\\local\\programs\\python\\python312\\lib\\site-packages (from matplotlib!=3.6.1,>=3.4->seaborn) (1.2.1)\n",
      "Requirement already satisfied: cycler>=0.10 in c:\\users\\pavan\\appdata\\local\\programs\\python\\python312\\lib\\site-packages (from matplotlib!=3.6.1,>=3.4->seaborn) (0.12.1)\n",
      "Requirement already satisfied: fonttools>=4.22.0 in c:\\users\\pavan\\appdata\\local\\programs\\python\\python312\\lib\\site-packages (from matplotlib!=3.6.1,>=3.4->seaborn) (4.51.0)\n",
      "Requirement already satisfied: kiwisolver>=1.3.1 in c:\\users\\pavan\\appdata\\local\\programs\\python\\python312\\lib\\site-packages (from matplotlib!=3.6.1,>=3.4->seaborn) (1.4.5)\n",
      "Requirement already satisfied: packaging>=20.0 in c:\\users\\pavan\\appdata\\local\\programs\\python\\python312\\lib\\site-packages (from matplotlib!=3.6.1,>=3.4->seaborn) (23.2)\n",
      "Requirement already satisfied: pillow>=8 in c:\\users\\pavan\\appdata\\local\\programs\\python\\python312\\lib\\site-packages (from matplotlib!=3.6.1,>=3.4->seaborn) (10.3.0)\n",
      "Requirement already satisfied: pyparsing>=2.3.1 in c:\\users\\pavan\\appdata\\local\\programs\\python\\python312\\lib\\site-packages (from matplotlib!=3.6.1,>=3.4->seaborn) (3.1.2)\n",
      "Requirement already satisfied: python-dateutil>=2.7 in c:\\users\\pavan\\appdata\\local\\programs\\python\\python312\\lib\\site-packages (from matplotlib!=3.6.1,>=3.4->seaborn) (2.8.2)\n",
      "Requirement already satisfied: pytz>=2020.1 in c:\\users\\pavan\\appdata\\local\\programs\\python\\python312\\lib\\site-packages (from pandas>=1.2->seaborn) (2024.1)\n",
      "Requirement already satisfied: tzdata>=2022.7 in c:\\users\\pavan\\appdata\\local\\programs\\python\\python312\\lib\\site-packages (from pandas>=1.2->seaborn) (2024.1)\n",
      "Requirement already satisfied: six>=1.5 in c:\\users\\pavan\\appdata\\local\\programs\\python\\python312\\lib\\site-packages (from python-dateutil>=2.7->matplotlib!=3.6.1,>=3.4->seaborn) (1.16.0)\n",
      "Downloading seaborn-0.13.2-py3-none-any.whl (294 kB)\n",
      "   ---------------------------------------- 0.0/294.9 kB ? eta -:--:--\n",
      "   ---------------------------------------- 0.0/294.9 kB ? eta -:--:--\n",
      "   - -------------------------------------- 10.2/294.9 kB ? eta -:--:--\n",
      "   ---- ---------------------------------- 30.7/294.9 kB 330.3 kB/s eta 0:00:01\n",
      "   ---- ---------------------------------- 30.7/294.9 kB 330.3 kB/s eta 0:00:01\n",
      "   -------- ------------------------------ 61.4/294.9 kB 363.1 kB/s eta 0:00:01\n",
      "   --------------- ---------------------- 122.9/294.9 kB 554.9 kB/s eta 0:00:01\n",
      "   -------------------------------- ----- 256.0/294.9 kB 983.0 kB/s eta 0:00:01\n",
      "   ---------------------------------------- 294.9/294.9 kB 1.0 MB/s eta 0:00:00\n",
      "Installing collected packages: seaborn\n",
      "Successfully installed seaborn-0.13.2\n"
     ]
    }
   ],
   "source": [
    "!pip install seaborn"
   ]
  },
  {
   "cell_type": "code",
   "execution_count": 2,
   "id": "e6008ce6-8b63-4c5e-9a0a-3ab1d254345b",
   "metadata": {},
   "outputs": [
    {
     "name": "stdout",
     "output_type": "stream",
     "text": [
      "Collecting scikit-learn\n",
      "  Downloading scikit_learn-1.7.1-cp312-cp312-win_amd64.whl.metadata (11 kB)\n",
      "Requirement already satisfied: numpy>=1.22.0 in c:\\users\\pavan\\appdata\\local\\programs\\python\\python312\\lib\\site-packages (from scikit-learn) (1.26.4)\n",
      "Collecting scipy>=1.8.0 (from scikit-learn)\n",
      "  Downloading scipy-1.16.1-cp312-cp312-win_amd64.whl.metadata (60 kB)\n",
      "     ---------------------------------------- 0.0/60.8 kB ? eta -:--:--\n",
      "     ------ --------------------------------- 10.2/60.8 kB ? eta -:--:--\n",
      "     ------------ ------------------------- 20.5/60.8 kB 320.0 kB/s eta 0:00:01\n",
      "     ------------------------------- ------ 51.2/60.8 kB 435.7 kB/s eta 0:00:01\n",
      "     -------------------------------------- 60.8/60.8 kB 459.7 kB/s eta 0:00:00\n",
      "Collecting joblib>=1.2.0 (from scikit-learn)\n",
      "  Downloading joblib-1.5.2-py3-none-any.whl.metadata (5.6 kB)\n",
      "Collecting threadpoolctl>=3.1.0 (from scikit-learn)\n",
      "  Downloading threadpoolctl-3.6.0-py3-none-any.whl.metadata (13 kB)\n",
      "Downloading scikit_learn-1.7.1-cp312-cp312-win_amd64.whl (8.7 MB)\n",
      "   ---------------------------------------- 0.0/8.7 MB ? eta -:--:--\n",
      "   --- ------------------------------------ 0.7/8.7 MB 13.9 MB/s eta 0:00:01\n",
      "   ------ --------------------------------- 1.4/8.7 MB 14.5 MB/s eta 0:00:01\n",
      "   ----------- ---------------------------- 2.4/8.7 MB 17.0 MB/s eta 0:00:01\n",
      "   ---------------- ----------------------- 3.6/8.7 MB 17.7 MB/s eta 0:00:01\n",
      "   -------------------- ------------------- 4.5/8.7 MB 17.8 MB/s eta 0:00:01\n",
      "   ------------------------ --------------- 5.3/8.7 MB 17.7 MB/s eta 0:00:01\n",
      "   -------------------------- ------------- 5.9/8.7 MB 17.0 MB/s eta 0:00:01\n",
      "   ------------------------------ --------- 6.6/8.7 MB 17.6 MB/s eta 0:00:01\n",
      "   ------------------------------------ --- 7.9/8.7 MB 18.8 MB/s eta 0:00:01\n",
      "   ---------------------------------------  8.7/8.7 MB 18.6 MB/s eta 0:00:01\n",
      "   ---------------------------------------- 8.7/8.7 MB 16.9 MB/s eta 0:00:00\n",
      "Downloading joblib-1.5.2-py3-none-any.whl (308 kB)\n",
      "   ---------------------------------------- 0.0/308.4 kB ? eta -:--:--\n",
      "   --------------------------------------- 308.4/308.4 kB 18.6 MB/s eta 0:00:00\n",
      "Downloading scipy-1.16.1-cp312-cp312-win_amd64.whl (38.5 MB)\n",
      "   ---------------------------------------- 0.0/38.5 MB ? eta -:--:--\n",
      "   - -------------------------------------- 1.3/38.5 MB 27.2 MB/s eta 0:00:02\n",
      "   -- ------------------------------------- 2.4/38.5 MB 26.1 MB/s eta 0:00:02\n",
      "   --- ------------------------------------ 3.6/38.5 MB 25.4 MB/s eta 0:00:02\n",
      "   ---- ----------------------------------- 4.6/38.5 MB 24.4 MB/s eta 0:00:02\n",
      "   ----- ---------------------------------- 5.6/38.5 MB 25.8 MB/s eta 0:00:02\n",
      "   ------ --------------------------------- 6.4/38.5 MB 22.8 MB/s eta 0:00:02\n",
      "   ------- -------------------------------- 7.4/38.5 MB 22.5 MB/s eta 0:00:02\n",
      "   -------- ------------------------------- 8.6/38.5 MB 23.9 MB/s eta 0:00:02\n",
      "   ---------- ----------------------------- 9.8/38.5 MB 23.2 MB/s eta 0:00:02\n",
      "   ----------- ---------------------------- 10.7/38.5 MB 22.6 MB/s eta 0:00:02\n",
      "   ------------ --------------------------- 12.2/38.5 MB 21.8 MB/s eta 0:00:02\n",
      "   -------------- ------------------------- 13.7/38.5 MB 22.6 MB/s eta 0:00:02\n",
      "   --------------- ------------------------ 14.9/38.5 MB 23.4 MB/s eta 0:00:02\n",
      "   ---------------- ----------------------- 16.0/38.5 MB 24.2 MB/s eta 0:00:01\n",
      "   ----------------- ---------------------- 17.0/38.5 MB 24.2 MB/s eta 0:00:01\n",
      "   ------------------ --------------------- 17.7/38.5 MB 24.2 MB/s eta 0:00:01\n",
      "   ------------------- -------------------- 18.7/38.5 MB 23.4 MB/s eta 0:00:01\n",
      "   -------------------- ------------------- 19.8/38.5 MB 23.4 MB/s eta 0:00:01\n",
      "   --------------------- ------------------ 20.8/38.5 MB 23.4 MB/s eta 0:00:01\n",
      "   ---------------------- ----------------- 21.8/38.5 MB 24.2 MB/s eta 0:00:01\n",
      "   ----------------------- ---------------- 22.9/38.5 MB 22.6 MB/s eta 0:00:01\n",
      "   ------------------------- -------------- 24.2/38.5 MB 22.6 MB/s eta 0:00:01\n",
      "   -------------------------- ------------- 25.1/38.5 MB 21.8 MB/s eta 0:00:01\n",
      "   --------------------------- ------------ 26.3/38.5 MB 22.5 MB/s eta 0:00:01\n",
      "   ---------------------------- ----------- 27.3/38.5 MB 22.6 MB/s eta 0:00:01\n",
      "   ----------------------------- ---------- 28.6/38.5 MB 24.2 MB/s eta 0:00:01\n",
      "   ------------------------------ --------- 29.7/38.5 MB 24.2 MB/s eta 0:00:01\n",
      "   -------------------------------- ------- 31.1/38.5 MB 25.2 MB/s eta 0:00:01\n",
      "   --------------------------------- ------ 32.1/38.5 MB 25.2 MB/s eta 0:00:01\n",
      "   ---------------------------------- ----- 33.4/38.5 MB 25.2 MB/s eta 0:00:01\n",
      "   ----------------------------------- ---- 34.1/38.5 MB 23.4 MB/s eta 0:00:01\n",
      "   ------------------------------------ --- 35.4/38.5 MB 25.1 MB/s eta 0:00:01\n",
      "   -------------------------------------- - 36.7/38.5 MB 25.2 MB/s eta 0:00:01\n",
      "   ---------------------------------------  37.6/38.5 MB 25.2 MB/s eta 0:00:01\n",
      "   ---------------------------------------  38.5/38.5 MB 24.2 MB/s eta 0:00:01\n",
      "   ---------------------------------------  38.5/38.5 MB 24.2 MB/s eta 0:00:01\n",
      "   ---------------------------------------  38.5/38.5 MB 24.2 MB/s eta 0:00:01\n",
      "   ---------------------------------------- 38.5/38.5 MB 19.2 MB/s eta 0:00:00\n",
      "Downloading threadpoolctl-3.6.0-py3-none-any.whl (18 kB)\n",
      "Installing collected packages: threadpoolctl, scipy, joblib, scikit-learn\n",
      "Successfully installed joblib-1.5.2 scikit-learn-1.7.1 scipy-1.16.1 threadpoolctl-3.6.0\n"
     ]
    },
    {
     "name": "stderr",
     "output_type": "stream",
     "text": [
      "\n",
      "[notice] A new release of pip is available: 23.3.1 -> 25.2\n",
      "[notice] To update, run: C:\\Users\\pavan\\AppData\\Local\\Programs\\Python\\Python312\\python.exe -m pip install --upgrade pip\n"
     ]
    }
   ],
   "source": [
    "!pip install scikit-learn"
   ]
  },
  {
   "cell_type": "code",
   "execution_count": 4,
   "id": "81591868-73dd-4079-8d37-b029e294bfab",
   "metadata": {},
   "outputs": [],
   "source": [
    "# import Required Libraries\n",
    "import pandas as pd\n",
    "import numpy as np\n",
    "import matplotlib.pyplot as plt\n",
    "import seaborn as sns\n",
    "from sklearn.model_selection import train_test_split, GridSearchCV\n",
    "from sklearn.preprocessing import LabelEncoder, StandardScaler\n",
    "from sklearn.ensemble import RandomForestClassifier\n",
    "from sklearn.linear_model import LogisticRegression\n",
    "from sklearn.metrics import classification_report, confusion_matrix, accuracy_score\n",
    "from sklearn.model_selection import cross_val_score\n",
    "import joblib"
   ]
  },
  {
   "cell_type": "code",
   "execution_count": 6,
   "id": "edfbe32f-80d2-474a-8e27-dbee91969d55",
   "metadata": {},
   "outputs": [
    {
     "data": {
      "text/html": [
       "<div>\n",
       "<style scoped>\n",
       "    .dataframe tbody tr th:only-of-type {\n",
       "        vertical-align: middle;\n",
       "    }\n",
       "\n",
       "    .dataframe tbody tr th {\n",
       "        vertical-align: top;\n",
       "    }\n",
       "\n",
       "    .dataframe thead th {\n",
       "        text-align: right;\n",
       "    }\n",
       "</style>\n",
       "<table border=\"1\" class=\"dataframe\">\n",
       "  <thead>\n",
       "    <tr style=\"text-align: right;\">\n",
       "      <th></th>\n",
       "      <th>image_id</th>\n",
       "      <th>category_id</th>\n",
       "      <th>supercategory</th>\n",
       "    </tr>\n",
       "  </thead>\n",
       "  <tbody>\n",
       "    <tr>\n",
       "      <th>0</th>\n",
       "      <td>0</td>\n",
       "      <td>6</td>\n",
       "      <td>Bottle</td>\n",
       "    </tr>\n",
       "    <tr>\n",
       "      <th>1</th>\n",
       "      <td>1</td>\n",
       "      <td>18</td>\n",
       "      <td>Carton</td>\n",
       "    </tr>\n",
       "    <tr>\n",
       "      <th>2</th>\n",
       "      <td>1</td>\n",
       "      <td>14</td>\n",
       "      <td>Carton</td>\n",
       "    </tr>\n",
       "    <tr>\n",
       "      <th>3</th>\n",
       "      <td>2</td>\n",
       "      <td>5</td>\n",
       "      <td>Bottle</td>\n",
       "    </tr>\n",
       "    <tr>\n",
       "      <th>4</th>\n",
       "      <td>2</td>\n",
       "      <td>7</td>\n",
       "      <td>Bottle cap</td>\n",
       "    </tr>\n",
       "  </tbody>\n",
       "</table>\n",
       "</div>"
      ],
      "text/plain": [
       "   image_id  category_id supercategory\n",
       "0         0            6        Bottle\n",
       "1         1           18        Carton\n",
       "2         1           14        Carton\n",
       "3         2            5        Bottle\n",
       "4         2            7    Bottle cap"
      ]
     },
     "execution_count": 6,
     "metadata": {},
     "output_type": "execute_result"
    }
   ],
   "source": [
    "df=pd.read_csv('D:/Smart_waste_detection/TACO/taco_annotations.csv')\n",
    "df.head()"
   ]
  },
  {
   "cell_type": "code",
   "execution_count": 7,
   "id": "262b8285-2c12-4ca7-b219-647072a646c3",
   "metadata": {},
   "outputs": [
    {
     "name": "stdout",
     "output_type": "stream",
     "text": [
      "<class 'pandas.core.frame.DataFrame'>\n",
      "RangeIndex: 4784 entries, 0 to 4783\n",
      "Data columns (total 3 columns):\n",
      " #   Column         Non-Null Count  Dtype \n",
      "---  ------         --------------  ----- \n",
      " 0   image_id       4784 non-null   int64 \n",
      " 1   category_id    4784 non-null   int64 \n",
      " 2   supercategory  4784 non-null   object\n",
      "dtypes: int64(2), object(1)\n",
      "memory usage: 112.3+ KB\n",
      "None\n",
      "          image_id  category_id\n",
      "count  4784.000000  4784.000000\n",
      "mean    756.936037    34.079013\n",
      "std     445.884396    20.081707\n",
      "min       0.000000     0.000000\n",
      "25%     354.750000    12.000000\n",
      "50%     743.000000    36.000000\n",
      "75%    1154.000000    57.000000\n",
      "max    1499.000000    59.000000\n",
      "image_id         0\n",
      "category_id      0\n",
      "supercategory    0\n",
      "dtype: int64\n"
     ]
    }
   ],
   "source": [
    "# Basic info\n",
    "print(df.info())\n",
    "print(df.describe())\n",
    "print(df.isnull().sum())"
   ]
  },
  {
   "cell_type": "code",
   "execution_count": null,
   "id": "31275ac4-01f6-413d-8441-1416009d0d34",
   "metadata": {},
   "outputs": [],
   "source": []
  }
 ],
 "metadata": {
  "kernelspec": {
   "display_name": "Python 3 (ipykernel)",
   "language": "python",
   "name": "python3"
  },
  "language_info": {
   "codemirror_mode": {
    "name": "ipython",
    "version": 3
   },
   "file_extension": ".py",
   "mimetype": "text/x-python",
   "name": "python",
   "nbconvert_exporter": "python",
   "pygments_lexer": "ipython3",
   "version": "3.12.0"
  }
 },
 "nbformat": 4,
 "nbformat_minor": 5
}
